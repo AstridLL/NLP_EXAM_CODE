{
 "metadata": {
  "language_info": {
   "codemirror_mode": {
    "name": "ipython",
    "version": 3
   },
   "file_extension": ".py",
   "mimetype": "text/x-python",
   "name": "python",
   "nbconvert_exporter": "python",
   "pygments_lexer": "ipython3",
   "version": "3.7.9-final"
  },
  "orig_nbformat": 2,
  "kernelspec": {
   "name": "python37964bitnlpcondaed063720e340471382fe7eca751f187d",
   "display_name": "Python 3.7.9 64-bit ('nlp': conda)"
  }
 },
 "nbformat": 4,
 "nbformat_minor": 2,
 "cells": [
  {
   "cell_type": "code",
   "execution_count": 2,
   "metadata": {},
   "outputs": [],
   "source": [
    "import configparser\n",
    "import os\n",
    "import tweepy as tw\n",
    "import pandas as pd"
   ]
  },
  {
   "cell_type": "code",
   "execution_count": 3,
   "metadata": {},
   "outputs": [],
   "source": [
    "#Add credentials\n",
    "twitter_keys = {\n",
    "        'consumer_key':        '2XojacT0OgB0FmRM5byheJyqm',\n",
    "        'consumer_secret':     'M1beLRsMhfW73XXGY6zqe8gEsPiSYiJaF3yAM9XIdZGMW9abS5',\n",
    "        'access_token_key':    '1329042912336875520-5W8CMAcb0hi6ZMwCS5oo4sp1LnOv56',\n",
    "        'access_token_secret': 'ostIJFu28MG6ZJ9EHSLtYKv5vo4jnd12d6oUmypFuv2I9'\n",
    "    }\n",
    "\n",
    "#Setup access to API\n",
    "auth = tw.OAuthHandler(twitter_keys['consumer_key'], twitter_keys['consumer_secret'])\n",
    "auth.set_access_token(twitter_keys['access_token_key'], twitter_keys['access_token_secret'])\n",
    "\n",
    "api = tw.API(auth, wait_on_rate_limit=True)\n",
    "\n",
    "search_words = \"Moderna -filter:retweets\" # This could be changed to e.g. Donald Trump to retrieve tweets related to him.\n",
    "date_since = \"2020-12-16\" # Refer to the oldest tweet and not the newest\n"
   ]
  },
  {
   "cell_type": "code",
   "execution_count": 4,
   "metadata": {},
   "outputs": [
    {
     "output_type": "execute_result",
     "data": {
      "text/plain": [
       "<tweepy.cursor.ItemIterator at 0x115e97fd0>"
      ]
     },
     "metadata": {},
     "execution_count": 4
    }
   ],
   "source": [
    "tweets = tw.Cursor(api.search, q=search_words, lang=\"en\", since=date_since, geocode = \"42.920545,-95.264927,2500km\").items(15000)\n",
    "tweets\n",
    "\n",
    "# result_type = \"popular\"\n",
    "# outcome is a cursor item iterator object."
   ]
  },
  {
   "cell_type": "code",
   "execution_count": 49,
   "metadata": {},
   "outputs": [
    {
     "output_type": "execute_result",
     "data": {
      "text/plain": [
       "<tweepy.cursor.ItemIterator at 0x11ef317d0>"
      ]
     },
     "metadata": {},
     "execution_count": 49
    }
   ],
   "source": [
    "# NOT WORKING \n",
    "# # GETTING EXTENDED TWEETS\n",
    "#extended_tweets = tw.Cursor(api.search, q=search_words, lang=\"en\", tweet_mode = \"extended\", since=date_since, geocode = \"42.920545,-95.264927,2500km\").items(1500)\n",
    "#extended_tweets"
   ]
  },
  {
   "cell_type": "code",
   "execution_count": 5,
   "metadata": {
    "tags": []
   },
   "outputs": [
    {
     "output_type": "error",
     "ename": "NameError",
     "evalue": "name 'tweet_df' is not defined",
     "traceback": [
      "\u001b[0;31m---------------------------------------------------------------------------\u001b[0m",
      "\u001b[0;31mNameError\u001b[0m                                 Traceback (most recent call last)",
      "\u001b[0;32m<ipython-input-5-f973fddc1d33>\u001b[0m in \u001b[0;36m<module>\u001b[0;34m\u001b[0m\n\u001b[1;32m      6\u001b[0m \u001b[0;34m\u001b[0m\u001b[0m\n\u001b[1;32m      7\u001b[0m \u001b[0mtweet_df1\u001b[0m \u001b[0;34m=\u001b[0m \u001b[0mpd\u001b[0m\u001b[0;34m.\u001b[0m\u001b[0mDataFrame\u001b[0m\u001b[0;34m(\u001b[0m\u001b[0mdata\u001b[0m\u001b[0;34m=\u001b[0m\u001b[0mtweet_details\u001b[0m\u001b[0;34m,\u001b[0m \u001b[0mcolumns\u001b[0m\u001b[0;34m=\u001b[0m\u001b[0;34m[\u001b[0m\u001b[0;34m\"text\"\u001b[0m\u001b[0;34m,\u001b[0m\u001b[0;34m\"user\"\u001b[0m\u001b[0;34m,\u001b[0m\u001b[0;34m\"location\"\u001b[0m\u001b[0;34m,\u001b[0m\u001b[0;34m\"statuses_count\"\u001b[0m\u001b[0;34m,\u001b[0m \u001b[0;34m\"user_description\"\u001b[0m\u001b[0;34m,\u001b[0m \u001b[0;34m\"followers_count\"\u001b[0m\u001b[0;34m,\u001b[0m \u001b[0;34m\"friends_count\"\u001b[0m\u001b[0;34m,\u001b[0m \u001b[0;34m\"listed_count\"\u001b[0m\u001b[0;34m,\u001b[0m \u001b[0;34m\"favourites_count\"\u001b[0m\u001b[0;34m]\u001b[0m\u001b[0;34m)\u001b[0m\u001b[0;34m\u001b[0m\u001b[0;34m\u001b[0m\u001b[0m\n\u001b[0;32m----> 8\u001b[0;31m \u001b[0mtweet_df\u001b[0m\u001b[0;34m.\u001b[0m\u001b[0mhead\u001b[0m\u001b[0;34m(\u001b[0m\u001b[0;34m)\u001b[0m\u001b[0;34m\u001b[0m\u001b[0;34m\u001b[0m\u001b[0m\n\u001b[0m\u001b[1;32m      9\u001b[0m \u001b[0;34m\u001b[0m\u001b[0m\n\u001b[1;32m     10\u001b[0m \u001b[0;34m\u001b[0m\u001b[0m\n",
      "\u001b[0;31mNameError\u001b[0m: name 'tweet_df' is not defined"
     ]
    }
   ],
   "source": [
    "# Now we iterate through the cursor item iterator object to pick up information like text, username, location, etc. Some details, e.g. geo and location depend on whether the information is made available by the user. If not, we get an empty result in these columns. \n",
    "\n",
    "tweet_details = [[tweet.text, tweet.user.screen_name, tweet.user.location, tweet.user.statuses_count,tweet.user.description,tweet.user.followers_count, tweet.user.friends_count, tweet.user.listed_count, tweet.user.favourites_count] for tweet in tweets]\n",
    "#print(tweet_details)\n",
    "\n",
    "# make pandas df\n",
    "tweet_df1 = pd.DataFrame(data=tweet_details, columns=[\"text\",\"user\",\"location\",\"statuses_count\", \"user_description\", \"followers_count\", \"friends_count\", \"listed_count\", \"favourites_count\"])\n",
    "tweet_df1.head()\n",
    "\n",
    "                "
   ]
  },
  {
   "cell_type": "code",
   "execution_count": 7,
   "metadata": {},
   "outputs": [
    {
     "output_type": "execute_result",
     "data": {
      "text/plain": [
       "15000"
      ]
     },
     "metadata": {},
     "execution_count": 7
    }
   ],
   "source": [
    "# check data\n",
    "tweet_df1.head()\n",
    "#print(tweet_df)\n",
    "#len(tweet_df1)"
   ]
  },
  {
   "cell_type": "code",
   "execution_count": 44,
   "metadata": {},
   "outputs": [],
   "source": [
    "#copy_of_tweet_df = tweet_df"
   ]
  },
  {
   "cell_type": "code",
   "execution_count": 8,
   "metadata": {},
   "outputs": [],
   "source": [
    "#copy_of_tweet_df.to_csv('tweets_df_3000.csv', header=True, mode='a')\n",
    "tweet_df1.to_csv('tweets_df1_15000.csv', header=True, mode='a')\n"
   ]
  }
 ]
}